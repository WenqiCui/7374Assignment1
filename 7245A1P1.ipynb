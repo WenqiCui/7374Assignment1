{
  "nbformat": 4,
  "nbformat_minor": 0,
  "metadata": {
    "colab": {
      "name": "7245A1P1.ipynb",
      "version": "0.3.2",
      "provenance": [],
      "collapsed_sections": []
    },
    "kernelspec": {
      "name": "python3",
      "display_name": "Python 3"
    },
    "accelerator": "GPU"
  },
  "cells": [
    {
      "metadata": {
        "id": "s09pu48_-Rqy",
        "colab_type": "code",
        "colab": {
          "base_uri": "https://localhost:8080/",
          "height": 34
        },
        "outputId": "2704c3f6-f62c-42f7-f87e-65c695943af1"
      },
      "cell_type": "code",
      "source": [
        "#import packages\n",
        "from __future__ import print_function\n",
        "import keras\n",
        "from keras.models import Sequential\n",
        "from keras.datasets import cifar10\n",
        "from keras.layers import Dense, Dropout\n",
        "from keras.optimizers import RMSprop,SGD"
      ],
      "execution_count": 1,
      "outputs": [
        {
          "output_type": "stream",
          "text": [
            "Using TensorFlow backend.\n"
          ],
          "name": "stderr"
        }
      ]
    },
    {
      "metadata": {
        "id": "zo1VCyOkJfLv",
        "colab_type": "code",
        "colab": {}
      },
      "cell_type": "code",
      "source": [
        "#parameters\n",
        "batch_size = 128\n",
        "num_classes = 10\n",
        "epochs = 100\n",
        "learning_rate = 0.003"
      ],
      "execution_count": 0,
      "outputs": []
    },
    {
      "metadata": {
        "id": "rN27w-Ii-Vof",
        "colab_type": "code",
        "colab": {
          "base_uri": "https://localhost:8080/",
          "height": 50
        },
        "outputId": "cecd3910-2446-4ec7-ff71-6fa42bfbdea6"
      },
      "cell_type": "code",
      "source": [
        "(x_train, y_train), (x_test, y_test) = cifar10.load_data()\n",
        "\n",
        "x_train = x_train.reshape(50000, 3072)\n",
        "x_test = x_test.reshape(10000, 3072)\n",
        "x_train = x_train.astype('float32')\n",
        "x_test = x_test.astype('float32')\n",
        "x_train /= 255\n",
        "x_test /= 255\n",
        "print(x_train.shape[0], 'train samples')\n",
        "print(x_test.shape[0], 'test samples')\n",
        "y_train = keras.utils.to_categorical(y_train, num_classes)\n",
        "y_test = keras.utils.to_categorical(y_test, num_classes)"
      ],
      "execution_count": 3,
      "outputs": [
        {
          "output_type": "stream",
          "text": [
            "50000 train samples\n",
            "10000 test samples\n"
          ],
          "name": "stdout"
        }
      ]
    },
    {
      "metadata": {
        "id": "MxW2txee-eSs",
        "colab_type": "code",
        "colab": {
          "base_uri": "https://localhost:8080/",
          "height": 470
        },
        "outputId": "e99d3cc5-6703-4ab5-a1e0-266fdb994006"
      },
      "cell_type": "code",
      "source": [
        "model = Sequential()\n",
        "model.add(Dense(2048, activation='relu', input_shape=(3072,)))\n",
        "model.add(Dropout(0.3))\n",
        "model.add(Dense(1024, activation='relu'))\n",
        "model.add(Dropout(0.3))\n",
        "model.add(Dense(512, activation='relu'))\n",
        "model.add(Dropout(0.3))\n",
        "model.add(Dense(256, activation='relu'))\n",
        "model.add(Dropout(0.3))\n",
        "model.add(Dense(128, activation='relu'))\n",
        "model.add(Dense(num_classes, activation='softmax'))\n",
        "\n",
        "\n",
        "\n",
        "model.summary()"
      ],
      "execution_count": 4,
      "outputs": [
        {
          "output_type": "stream",
          "text": [
            "_________________________________________________________________\n",
            "Layer (type)                 Output Shape              Param #   \n",
            "=================================================================\n",
            "dense_1 (Dense)              (None, 2048)              6293504   \n",
            "_________________________________________________________________\n",
            "dropout_1 (Dropout)          (None, 2048)              0         \n",
            "_________________________________________________________________\n",
            "dense_2 (Dense)              (None, 1024)              2098176   \n",
            "_________________________________________________________________\n",
            "dropout_2 (Dropout)          (None, 1024)              0         \n",
            "_________________________________________________________________\n",
            "dense_3 (Dense)              (None, 512)               524800    \n",
            "_________________________________________________________________\n",
            "dropout_3 (Dropout)          (None, 512)               0         \n",
            "_________________________________________________________________\n",
            "dense_4 (Dense)              (None, 256)               131328    \n",
            "_________________________________________________________________\n",
            "dropout_4 (Dropout)          (None, 256)               0         \n",
            "_________________________________________________________________\n",
            "dense_5 (Dense)              (None, 128)               32896     \n",
            "_________________________________________________________________\n",
            "dense_6 (Dense)              (None, 10)                1290      \n",
            "=================================================================\n",
            "Total params: 9,081,994\n",
            "Trainable params: 9,081,994\n",
            "Non-trainable params: 0\n",
            "_________________________________________________________________\n"
          ],
          "name": "stdout"
        }
      ]
    },
    {
      "metadata": {
        "id": "7I6zd_gM-mWx",
        "colab_type": "code",
        "colab": {
          "base_uri": "https://localhost:8080/",
          "height": 4146
        },
        "outputId": "b3b91800-9531-4b2e-9c3b-fc5f40c19b35"
      },
      "cell_type": "code",
      "source": [
        "model.compile(loss='categorical_crossentropy',\n",
        "              optimizer=SGD(lr=learning_rate),\n",
        "              metrics=['accuracy'])\n",
        "\n",
        "history = model.fit(x_train, y_train,\n",
        "                    batch_size=batch_size,\n",
        "                    epochs=epochs,\n",
        "                    verbose=1,\n",
        "                    validation_data=(x_test, y_test))\n",
        "score = model.evaluate(x_test, y_test, verbose=0)\n",
        "print('Test loss:', score[0])\n",
        "print('Test accuracy:', score[1])\n",
        "import matplotlib.pyplot as plt\n",
        "# Plot training & validation accuracy values\n",
        "plt.plot(history.history['acc'])\n",
        "plt.plot(history.history['val_acc'])\n",
        "plt.title('Model accuracy')\n",
        "plt.ylabel('Accuracy')\n",
        "plt.xlabel('Epoch')\n",
        "plt.legend(['Train', 'Test'], loc='upper left')\n",
        "plt.show()\n",
        "\n",
        "# Plot training & validation loss values\n",
        "plt.plot(history.history['loss'])\n",
        "plt.plot(history.history['val_loss'])\n",
        "plt.title('Model loss')\n",
        "plt.ylabel('Loss')\n",
        "plt.xlabel('Epoch')\n",
        "plt.legend(['Train', 'Test'], loc='upper left')\n",
        "plt.show()"
      ],
      "execution_count": 5,
      "outputs": [
        {
          "output_type": "stream",
          "text": [
            "Train on 50000 samples, validate on 10000 samples\n",
            "Epoch 1/100\n",
            "50000/50000 [==============================] - 6s 128us/step - loss: 2.3087 - acc: 0.1175 - val_loss: 2.2279 - val_acc: 0.2010\n",
            "Epoch 2/100\n",
            "50000/50000 [==============================] - 5s 103us/step - loss: 2.2235 - acc: 0.1702 - val_loss: 2.1071 - val_acc: 0.2412\n",
            "Epoch 3/100\n",
            "50000/50000 [==============================] - 5s 103us/step - loss: 2.1289 - acc: 0.2064 - val_loss: 2.0175 - val_acc: 0.2659\n",
            "Epoch 4/100\n",
            "50000/50000 [==============================] - 5s 103us/step - loss: 2.0646 - acc: 0.2304 - val_loss: 1.9640 - val_acc: 0.2887\n",
            "Epoch 5/100\n",
            "50000/50000 [==============================] - 5s 103us/step - loss: 2.0100 - acc: 0.2558 - val_loss: 1.9200 - val_acc: 0.3065\n",
            "Epoch 6/100\n",
            "50000/50000 [==============================] - 5s 103us/step - loss: 1.9705 - acc: 0.2723 - val_loss: 1.8885 - val_acc: 0.3152\n",
            "Epoch 7/100\n",
            "50000/50000 [==============================] - 5s 103us/step - loss: 1.9406 - acc: 0.2875 - val_loss: 1.8473 - val_acc: 0.3332\n",
            "Epoch 8/100\n",
            "50000/50000 [==============================] - 5s 103us/step - loss: 1.9114 - acc: 0.2992 - val_loss: 1.8238 - val_acc: 0.3425\n",
            "Epoch 9/100\n",
            "50000/50000 [==============================] - 5s 103us/step - loss: 1.8870 - acc: 0.3126 - val_loss: 1.8051 - val_acc: 0.3482\n",
            "Epoch 10/100\n",
            "50000/50000 [==============================] - 5s 103us/step - loss: 1.8665 - acc: 0.3218 - val_loss: 1.7782 - val_acc: 0.3617\n",
            "Epoch 11/100\n",
            "50000/50000 [==============================] - 5s 103us/step - loss: 1.8464 - acc: 0.3305 - val_loss: 1.7570 - val_acc: 0.3711\n",
            "Epoch 12/100\n",
            "50000/50000 [==============================] - 5s 103us/step - loss: 1.8313 - acc: 0.3376 - val_loss: 1.7452 - val_acc: 0.3749\n",
            "Epoch 13/100\n",
            "50000/50000 [==============================] - 5s 103us/step - loss: 1.8138 - acc: 0.3442 - val_loss: 1.7244 - val_acc: 0.3823\n",
            "Epoch 14/100\n",
            "50000/50000 [==============================] - 5s 103us/step - loss: 1.7976 - acc: 0.3484 - val_loss: 1.7098 - val_acc: 0.3852\n",
            "Epoch 15/100\n",
            "50000/50000 [==============================] - 5s 103us/step - loss: 1.7853 - acc: 0.3545 - val_loss: 1.6959 - val_acc: 0.3867\n",
            "Epoch 16/100\n",
            "50000/50000 [==============================] - 5s 102us/step - loss: 1.7730 - acc: 0.3588 - val_loss: 1.6777 - val_acc: 0.3989\n",
            "Epoch 17/100\n",
            "50000/50000 [==============================] - 5s 103us/step - loss: 1.7598 - acc: 0.3636 - val_loss: 1.6709 - val_acc: 0.3988\n",
            "Epoch 18/100\n",
            "50000/50000 [==============================] - 5s 103us/step - loss: 1.7432 - acc: 0.3692 - val_loss: 1.6544 - val_acc: 0.4059\n",
            "Epoch 19/100\n",
            "50000/50000 [==============================] - 5s 103us/step - loss: 1.7363 - acc: 0.3718 - val_loss: 1.6478 - val_acc: 0.4092\n",
            "Epoch 20/100\n",
            "50000/50000 [==============================] - 5s 103us/step - loss: 1.7240 - acc: 0.3767 - val_loss: 1.6334 - val_acc: 0.4142\n",
            "Epoch 21/100\n",
            "50000/50000 [==============================] - 5s 103us/step - loss: 1.7095 - acc: 0.3857 - val_loss: 1.6286 - val_acc: 0.4159\n",
            "Epoch 22/100\n",
            "50000/50000 [==============================] - 5s 103us/step - loss: 1.7046 - acc: 0.3842 - val_loss: 1.6179 - val_acc: 0.4193\n",
            "Epoch 23/100\n",
            "50000/50000 [==============================] - 5s 104us/step - loss: 1.6910 - acc: 0.3908 - val_loss: 1.6058 - val_acc: 0.4235\n",
            "Epoch 24/100\n",
            "50000/50000 [==============================] - 5s 103us/step - loss: 1.6839 - acc: 0.3913 - val_loss: 1.5943 - val_acc: 0.4292\n",
            "Epoch 25/100\n",
            "50000/50000 [==============================] - 5s 103us/step - loss: 1.6742 - acc: 0.3973 - val_loss: 1.5869 - val_acc: 0.4365\n",
            "Epoch 26/100\n",
            "50000/50000 [==============================] - 5s 103us/step - loss: 1.6630 - acc: 0.4000 - val_loss: 1.5774 - val_acc: 0.4351\n",
            "Epoch 27/100\n",
            "50000/50000 [==============================] - 5s 103us/step - loss: 1.6543 - acc: 0.4033 - val_loss: 1.5683 - val_acc: 0.4386\n",
            "Epoch 28/100\n",
            "50000/50000 [==============================] - 5s 103us/step - loss: 1.6464 - acc: 0.4089 - val_loss: 1.5567 - val_acc: 0.4437\n",
            "Epoch 29/100\n",
            "50000/50000 [==============================] - 5s 103us/step - loss: 1.6376 - acc: 0.4116 - val_loss: 1.5540 - val_acc: 0.4442\n",
            "Epoch 30/100\n",
            "50000/50000 [==============================] - 5s 103us/step - loss: 1.6295 - acc: 0.4133 - val_loss: 1.5450 - val_acc: 0.4483\n",
            "Epoch 31/100\n",
            "50000/50000 [==============================] - 5s 103us/step - loss: 1.6210 - acc: 0.4170 - val_loss: 1.5399 - val_acc: 0.4506\n",
            "Epoch 32/100\n",
            "50000/50000 [==============================] - 5s 103us/step - loss: 1.6105 - acc: 0.4208 - val_loss: 1.5368 - val_acc: 0.4513\n",
            "Epoch 33/100\n",
            "50000/50000 [==============================] - 5s 104us/step - loss: 1.6035 - acc: 0.4247 - val_loss: 1.5347 - val_acc: 0.4522\n",
            "Epoch 34/100\n",
            "50000/50000 [==============================] - 5s 103us/step - loss: 1.5927 - acc: 0.4281 - val_loss: 1.5219 - val_acc: 0.4556\n",
            "Epoch 35/100\n",
            "50000/50000 [==============================] - 5s 103us/step - loss: 1.5845 - acc: 0.4299 - val_loss: 1.5052 - val_acc: 0.4609\n",
            "Epoch 36/100\n",
            "50000/50000 [==============================] - 5s 103us/step - loss: 1.5786 - acc: 0.4310 - val_loss: 1.5033 - val_acc: 0.4663\n",
            "Epoch 37/100\n",
            "50000/50000 [==============================] - 5s 103us/step - loss: 1.5708 - acc: 0.4343 - val_loss: 1.4976 - val_acc: 0.4657\n",
            "Epoch 38/100\n",
            "50000/50000 [==============================] - 5s 103us/step - loss: 1.5637 - acc: 0.4385 - val_loss: 1.4917 - val_acc: 0.4674\n",
            "Epoch 39/100\n",
            "50000/50000 [==============================] - 5s 103us/step - loss: 1.5604 - acc: 0.4408 - val_loss: 1.4801 - val_acc: 0.4719\n",
            "Epoch 40/100\n",
            "50000/50000 [==============================] - 5s 103us/step - loss: 1.5499 - acc: 0.4419 - val_loss: 1.4763 - val_acc: 0.4730\n",
            "Epoch 41/100\n",
            "50000/50000 [==============================] - 5s 103us/step - loss: 1.5444 - acc: 0.4453 - val_loss: 1.4807 - val_acc: 0.4670\n",
            "Epoch 42/100\n",
            "50000/50000 [==============================] - 5s 103us/step - loss: 1.5393 - acc: 0.4489 - val_loss: 1.4712 - val_acc: 0.4721\n",
            "Epoch 43/100\n",
            "50000/50000 [==============================] - 5s 104us/step - loss: 1.5324 - acc: 0.4472 - val_loss: 1.4683 - val_acc: 0.4721\n",
            "Epoch 44/100\n",
            "50000/50000 [==============================] - 5s 103us/step - loss: 1.5213 - acc: 0.4519 - val_loss: 1.4544 - val_acc: 0.4802\n",
            "Epoch 45/100\n",
            "50000/50000 [==============================] - 5s 103us/step - loss: 1.5163 - acc: 0.4544 - val_loss: 1.4635 - val_acc: 0.4764\n",
            "Epoch 46/100\n",
            "50000/50000 [==============================] - 5s 103us/step - loss: 1.5104 - acc: 0.4569 - val_loss: 1.4522 - val_acc: 0.4777\n",
            "Epoch 47/100\n",
            "50000/50000 [==============================] - 5s 103us/step - loss: 1.5028 - acc: 0.4581 - val_loss: 1.4650 - val_acc: 0.4770\n",
            "Epoch 48/100\n",
            "50000/50000 [==============================] - 5s 103us/step - loss: 1.4952 - acc: 0.4607 - val_loss: 1.4444 - val_acc: 0.4819\n",
            "Epoch 49/100\n",
            "50000/50000 [==============================] - 5s 103us/step - loss: 1.4892 - acc: 0.4648 - val_loss: 1.4348 - val_acc: 0.4857\n",
            "Epoch 50/100\n",
            "50000/50000 [==============================] - 5s 103us/step - loss: 1.4836 - acc: 0.4650 - val_loss: 1.4286 - val_acc: 0.4871\n",
            "Epoch 51/100\n",
            "50000/50000 [==============================] - 5s 102us/step - loss: 1.4746 - acc: 0.4683 - val_loss: 1.4236 - val_acc: 0.4926\n",
            "Epoch 52/100\n",
            "50000/50000 [==============================] - 5s 103us/step - loss: 1.4705 - acc: 0.4718 - val_loss: 1.4168 - val_acc: 0.4907\n",
            "Epoch 53/100\n",
            "50000/50000 [==============================] - 5s 104us/step - loss: 1.4673 - acc: 0.4740 - val_loss: 1.4358 - val_acc: 0.4846\n",
            "Epoch 54/100\n",
            "50000/50000 [==============================] - 5s 103us/step - loss: 1.4553 - acc: 0.4761 - val_loss: 1.4246 - val_acc: 0.4863\n",
            "Epoch 55/100\n",
            "50000/50000 [==============================] - 5s 103us/step - loss: 1.4518 - acc: 0.4791 - val_loss: 1.4057 - val_acc: 0.4969\n",
            "Epoch 56/100\n",
            "50000/50000 [==============================] - 5s 103us/step - loss: 1.4482 - acc: 0.4795 - val_loss: 1.4195 - val_acc: 0.4909\n",
            "Epoch 57/100\n",
            "50000/50000 [==============================] - 5s 103us/step - loss: 1.4449 - acc: 0.4816 - val_loss: 1.4028 - val_acc: 0.4982\n",
            "Epoch 58/100\n",
            "50000/50000 [==============================] - 5s 103us/step - loss: 1.4342 - acc: 0.4844 - val_loss: 1.4058 - val_acc: 0.4945\n",
            "Epoch 59/100\n",
            "50000/50000 [==============================] - 5s 103us/step - loss: 1.4293 - acc: 0.4866 - val_loss: 1.3998 - val_acc: 0.4997\n",
            "Epoch 60/100\n",
            "50000/50000 [==============================] - 5s 103us/step - loss: 1.4239 - acc: 0.4881 - val_loss: 1.3965 - val_acc: 0.5025\n",
            "Epoch 61/100\n",
            "50000/50000 [==============================] - 5s 103us/step - loss: 1.4159 - acc: 0.4907 - val_loss: 1.3827 - val_acc: 0.5051\n",
            "Epoch 62/100\n",
            "50000/50000 [==============================] - 5s 103us/step - loss: 1.4128 - acc: 0.4900 - val_loss: 1.3922 - val_acc: 0.4977\n",
            "Epoch 63/100\n",
            "50000/50000 [==============================] - 5s 103us/step - loss: 1.4061 - acc: 0.4942 - val_loss: 1.3849 - val_acc: 0.5041\n",
            "Epoch 64/100\n",
            "50000/50000 [==============================] - 5s 103us/step - loss: 1.4027 - acc: 0.4978 - val_loss: 1.3788 - val_acc: 0.5089\n",
            "Epoch 65/100\n",
            "50000/50000 [==============================] - 5s 103us/step - loss: 1.3978 - acc: 0.4943 - val_loss: 1.3868 - val_acc: 0.5021\n",
            "Epoch 66/100\n",
            "50000/50000 [==============================] - 5s 102us/step - loss: 1.3888 - acc: 0.5008 - val_loss: 1.3759 - val_acc: 0.5080\n",
            "Epoch 67/100\n",
            "50000/50000 [==============================] - 5s 103us/step - loss: 1.3830 - acc: 0.5034 - val_loss: 1.3607 - val_acc: 0.5131\n",
            "Epoch 68/100\n",
            "50000/50000 [==============================] - 5s 103us/step - loss: 1.3831 - acc: 0.5023 - val_loss: 1.3621 - val_acc: 0.5123\n",
            "Epoch 69/100\n",
            "50000/50000 [==============================] - 5s 103us/step - loss: 1.3740 - acc: 0.5068 - val_loss: 1.3776 - val_acc: 0.5079\n",
            "Epoch 70/100\n",
            "50000/50000 [==============================] - 5s 103us/step - loss: 1.3688 - acc: 0.5078 - val_loss: 1.3908 - val_acc: 0.4987\n",
            "Epoch 71/100\n",
            "50000/50000 [==============================] - 5s 104us/step - loss: 1.3600 - acc: 0.5093 - val_loss: 1.3673 - val_acc: 0.5106\n",
            "Epoch 72/100\n",
            "50000/50000 [==============================] - 5s 103us/step - loss: 1.3589 - acc: 0.5138 - val_loss: 1.3484 - val_acc: 0.5191\n",
            "Epoch 73/100\n",
            "50000/50000 [==============================] - 5s 103us/step - loss: 1.3535 - acc: 0.5124 - val_loss: 1.3543 - val_acc: 0.5177\n",
            "Epoch 74/100\n",
            "50000/50000 [==============================] - 5s 103us/step - loss: 1.3474 - acc: 0.5139 - val_loss: 1.3474 - val_acc: 0.5201\n",
            "Epoch 75/100\n",
            "50000/50000 [==============================] - 5s 103us/step - loss: 1.3400 - acc: 0.5187 - val_loss: 1.3516 - val_acc: 0.5150\n",
            "Epoch 76/100\n",
            "50000/50000 [==============================] - 5s 103us/step - loss: 1.3356 - acc: 0.5191 - val_loss: 1.3373 - val_acc: 0.5228\n",
            "Epoch 77/100\n",
            "50000/50000 [==============================] - 5s 103us/step - loss: 1.3286 - acc: 0.5199 - val_loss: 1.3379 - val_acc: 0.5216\n",
            "Epoch 78/100\n",
            "50000/50000 [==============================] - 5s 103us/step - loss: 1.3255 - acc: 0.5220 - val_loss: 1.3492 - val_acc: 0.5176\n",
            "Epoch 79/100\n",
            "50000/50000 [==============================] - 5s 103us/step - loss: 1.3205 - acc: 0.5253 - val_loss: 1.3356 - val_acc: 0.5215\n",
            "Epoch 80/100\n",
            "50000/50000 [==============================] - 5s 103us/step - loss: 1.3157 - acc: 0.5262 - val_loss: 1.3667 - val_acc: 0.5090\n",
            "Epoch 81/100\n",
            "50000/50000 [==============================] - 5s 103us/step - loss: 1.3102 - acc: 0.5270 - val_loss: 1.3377 - val_acc: 0.5188\n",
            "Epoch 82/100\n",
            "50000/50000 [==============================] - 5s 103us/step - loss: 1.3034 - acc: 0.5320 - val_loss: 1.3311 - val_acc: 0.5243\n",
            "Epoch 83/100\n",
            "50000/50000 [==============================] - 5s 103us/step - loss: 1.2995 - acc: 0.5334 - val_loss: 1.3463 - val_acc: 0.5239\n",
            "Epoch 84/100\n",
            "50000/50000 [==============================] - 5s 103us/step - loss: 1.2934 - acc: 0.5331 - val_loss: 1.3292 - val_acc: 0.5252\n",
            "Epoch 85/100\n",
            "50000/50000 [==============================] - 5s 103us/step - loss: 1.2878 - acc: 0.5349 - val_loss: 1.3562 - val_acc: 0.5155\n",
            "Epoch 86/100\n",
            "50000/50000 [==============================] - 5s 103us/step - loss: 1.2850 - acc: 0.5357 - val_loss: 1.3225 - val_acc: 0.5274\n",
            "Epoch 87/100\n",
            "50000/50000 [==============================] - 5s 103us/step - loss: 1.2763 - acc: 0.5388 - val_loss: 1.3467 - val_acc: 0.5186\n",
            "Epoch 88/100\n",
            "50000/50000 [==============================] - 5s 103us/step - loss: 1.2793 - acc: 0.5378 - val_loss: 1.3508 - val_acc: 0.5216\n",
            "Epoch 89/100\n",
            "50000/50000 [==============================] - 5s 103us/step - loss: 1.2686 - acc: 0.5428 - val_loss: 1.3322 - val_acc: 0.5211\n",
            "Epoch 90/100\n",
            "50000/50000 [==============================] - 5s 102us/step - loss: 1.2627 - acc: 0.5458 - val_loss: 1.3230 - val_acc: 0.5309\n",
            "Epoch 91/100\n",
            "50000/50000 [==============================] - 5s 103us/step - loss: 1.2617 - acc: 0.5455 - val_loss: 1.3446 - val_acc: 0.5178\n",
            "Epoch 92/100\n",
            "50000/50000 [==============================] - 5s 103us/step - loss: 1.2553 - acc: 0.5492 - val_loss: 1.3125 - val_acc: 0.5303\n",
            "Epoch 93/100\n",
            "50000/50000 [==============================] - 5s 103us/step - loss: 1.2479 - acc: 0.5496 - val_loss: 1.3157 - val_acc: 0.5334\n",
            "Epoch 94/100\n",
            "50000/50000 [==============================] - 5s 103us/step - loss: 1.2447 - acc: 0.5508 - val_loss: 1.3092 - val_acc: 0.5334\n",
            "Epoch 95/100\n",
            "50000/50000 [==============================] - 5s 103us/step - loss: 1.2421 - acc: 0.5524 - val_loss: 1.3310 - val_acc: 0.5245\n",
            "Epoch 96/100\n",
            "50000/50000 [==============================] - 5s 103us/step - loss: 1.2377 - acc: 0.5525 - val_loss: 1.3219 - val_acc: 0.5307\n",
            "Epoch 97/100\n",
            "50000/50000 [==============================] - 5s 103us/step - loss: 1.2367 - acc: 0.5546 - val_loss: 1.3095 - val_acc: 0.5260\n",
            "Epoch 98/100\n",
            "50000/50000 [==============================] - 5s 103us/step - loss: 1.2295 - acc: 0.5581 - val_loss: 1.3599 - val_acc: 0.5203\n",
            "Epoch 99/100\n",
            "50000/50000 [==============================] - 5s 103us/step - loss: 1.2255 - acc: 0.5600 - val_loss: 1.3219 - val_acc: 0.5295\n",
            "Epoch 100/100\n",
            "50000/50000 [==============================] - 5s 102us/step - loss: 1.2202 - acc: 0.5607 - val_loss: 1.3172 - val_acc: 0.5313\n",
            "Test loss: 1.317182935142517\n",
            "Test accuracy: 0.5313\n"
          ],
          "name": "stdout"
        },
        {
          "output_type": "display_data",
          "data": {
            "image/png": "[encoded data removed]",
            "text/plain": [
              "<matplotlib.figure.Figure at 0x7f098778f748>"
            ]
          },
          "metadata": {
            "tags": []
          }
        },
        {
          "output_type": "display_data",
          "data": {
            "image/png": "[encoded data removed]",
            "text/plain": [
              "<matplotlib.figure.Figure at 0x7f0982285c50>"
            ]
          },
          "metadata": {
            "tags": []
          }
        }
      ]
    }
  ]
}